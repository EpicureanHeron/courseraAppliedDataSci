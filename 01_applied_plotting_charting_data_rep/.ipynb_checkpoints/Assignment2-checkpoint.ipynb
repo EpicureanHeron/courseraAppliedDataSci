{
 "cells": [
  {
   "cell_type": "markdown",
   "metadata": {},
   "source": [
    "# Assignment 2\n",
    "\n",
    "Before working on this assignment please read these instructions fully. In the submission area, you will notice that you can click the link to **Preview the Grading** for each step of the assignment. This is the criteria that will be used for peer grading. Please familiarize yourself with the criteria before beginning the assignment.\n",
    "\n",
    "An NOAA dataset has been stored in the file `data/C2A2_data/BinnedCsvs_d400/fb441e62df2d58994928907a91895ec62c2c42e6cd075c2700843b89.csv`. This is the dataset to use for this assignment. Note: The data for this assignment comes from a subset of The National Centers for Environmental Information (NCEI) [Daily Global Historical Climatology Network](https://www1.ncdc.noaa.gov/pub/data/ghcn/daily/readme.txt) (GHCN-Daily). The GHCN-Daily is comprised of daily climate records from thousands of land surface stations across the globe.\n",
    "\n",
    "Each row in the assignment datafile corresponds to a single observation.\n",
    "\n",
    "The following variables are provided to you:\n",
    "\n",
    "* **id** : station identification code\n",
    "* **date** : date in YYYY-MM-DD format (e.g. 2012-01-24 = January 24, 2012)\n",
    "* **element** : indicator of element type\n",
    "    * TMAX : Maximum temperature (tenths of degrees C)\n",
    "    * TMIN : Minimum temperature (tenths of degrees C)\n",
    "* **value** : data value for element (tenths of degrees C)\n",
    "\n",
    "For this assignment, you must:\n",
    "\n",
    "1. Read the documentation and familiarize yourself with the dataset, then write some python code which returns a line graph of the record high and record low temperatures by day of the year over the period 2005-2014. The area between the record high and record low temperatures for each day should be shaded.\n",
    "2. Overlay a scatter of the 2015 data for any points (highs and lows) for which the ten year record (2005-2014) record high or record low was broken in 2015.\n",
    "3. Watch out for leap days (i.e. February 29th), it is reasonable to remove these points from the dataset for the purpose of this visualization.\n",
    "4. Make the visual nice! Leverage principles from the first module in this course when developing your solution. Consider issues such as legends, labels, and chart junk.\n",
    "\n",
    "The data you have been given is near **Ann Arbor, Michigan, United States**, and the stations the data comes from are shown on the map below."
   ]
  },
  {
   "cell_type": "code",
   "execution_count": 25,
   "metadata": {},
   "outputs": [
    {
     "name": "stderr",
     "output_type": "stream",
     "text": [
      "C:\\Users\\Joe\\AppData\\Local\\Programs\\Python\\Python36\\lib\\site-packages\\ipykernel_launcher.py:88: FutureWarning: Series.data is deprecated and will be removed in a future version\n",
      "C:\\Users\\Joe\\AppData\\Local\\Programs\\Python\\Python36\\lib\\site-packages\\ipykernel_launcher.py:89: FutureWarning: Series.data is deprecated and will be removed in a future version\n"
     ]
    },
    {
     "data": {
      "image/png": "[encoded data removed]",
      "text/plain": [
       "<Figure size 432x288 with 1 Axes>"
      ]
     },
     "metadata": {
      "needs_background": "light"
     },
     "output_type": "display_data"
    }
   ],
   "source": [
    "import matplotlib.pyplot as plt\n",
    "import mplleaflet\n",
    "import pandas as pd\n",
    "import numpy as np\n",
    "\n",
    "# data/C2A2_data/BinnedCsvs_d400/fb441e62df2d58994928907a91895ec62c2c42e6cd075c2700843b89.csv\n",
    "\n",
    "def leaflet_plot_stations(binsize, hashid):\n",
    "\n",
    "    df = pd.read_csv('data/C2A2_data/BinSize_d{}.csv'.format(binsize))\n",
    "    \n",
    "    \n",
    "    station_locations_by_hash = df[df['hash'] == hashid]\n",
    "\n",
    "    lons = station_locations_by_hash['LONGITUDE'].tolist()\n",
    "    lats = station_locations_by_hash['LATITUDE'].tolist()\n",
    "\n",
    "    plt.figure(figsize=(8,8))\n",
    "\n",
    "    plt.scatter(lons, lats, c='r', alpha=0.7, s=200)\n",
    "\n",
    "    return mplleaflet.display()\n",
    "\n",
    "# leaflet_plot_stations(400,'fb441e62df2d58994928907a91895ec62c2c42e6cd075c2700843b89')\n",
    "\n",
    "\n",
    "def create_graph():\n",
    "    # Loads NCEI Data\n",
    "    ncei_df = pd.read_csv('data/C2A2_data/BinnedCsvs_d400/fb441e62df2d58994928907a91895ec62c2c42e6cd075c2700843b89.csv')\n",
    "\n",
    "    ncei_df =  ncei_df.sort_values(by='Date', ascending=True)\n",
    "    \n",
    "    ncei_df['Data_Value'] = (ncei_df['Data_Value']/10)\n",
    "    \n",
    "    # create a new column which is just month and day by using a lambda to splice the last 5 of the Date column\n",
    "    ncei_df['Month Day'] =  ncei_df.Date.apply(lambda x: x[-5:])\n",
    "    \n",
    "    # only dates before 1/1/2015\n",
    "    \n",
    "    pre_2015_ncei_df = ncei_df[ncei_df['Date'] < '2015-01-01']\n",
    "     \n",
    "    # data set for maximum values grouped by month day column\n",
    "    pre_2015_max_df =  pd.DataFrame(pre_2015_ncei_df.groupby(['Month Day'])['Data_Value'].max())\n",
    "    \n",
    "     # data set for min values grouped by month day column\n",
    "    pre_2015_min_df =  pd.DataFrame(pre_2015_ncei_df.groupby(['Month Day'])['Data_Value'].min())\n",
    "    \n",
    " \n",
    "    \n",
    "    # dataframe for values that occured on or after 1/1/2015\n",
    "    scatter_2015_ncei_df = ncei_df[ncei_df['Date'] >= '2015-01-01']\n",
    "    \n",
    "    # create two new dataframes, min and max grouped by month day based on the data_value\n",
    "    scatter_2015_min_df = pd.DataFrame(scatter_2015_ncei_df.groupby(['Month Day'])['Data_Value'].min())\n",
    "    scatter_2015_max_df = pd.DataFrame(scatter_2015_ncei_df.groupby(['Month Day'])['Data_Value'].max())\n",
    "    \n",
    "    # merge the two sets into one \n",
    "    \n",
    "    merged_2015_df = pd.merge(scatter_2015_min_df, scatter_2015_max_df, left_index=True, right_index=True, how='inner')\n",
    "    # relabel the columns\n",
    "    merged_2015_df.columns =  ['2015 Min', '2015 Max']\n",
    "    # create the pre 2015 data into a similair data set\n",
    "    pre_2015_merged_df = pd.merge(pre_2015_min_df, pre_2015_max_df, left_index=True, right_index=True, how='inner')\n",
    "    \n",
    "    pre_2015_merged_df.columns = ['Pre 2015 Min', 'Pre 2015 Max']\n",
    "    \n",
    "    \n",
    "    pre_and_2015_merged_df = pd.merge(merged_2015_df,pre_2015_merged_df, left_index=True, right_index=True, how='inner')\n",
    "    \n",
    "#     df['que'] = df.apply(lambda x : x['one'] if x['one'] >= x['two'] and x['one'] <= x['three'] else \"\", axis=1)\n",
    "\n",
    "    # using numpy compare the two columns\n",
    "    pre_and_2015_merged_df[\"2015 min less\"] = np.where(pre_and_2015_merged_df['2015 Min'] < pre_and_2015_merged_df['Pre 2015 Min'], True, False)\n",
    "    \n",
    "    pre_and_2015_merged_df[\"2015 max more\"] = np.where(pre_and_2015_merged_df['2015 Max'] > pre_and_2015_merged_df['Pre 2015 Max'], True, False)\n",
    "\n",
    "#     higher_max_2015 = (pre_and_2015_merged_df['2015 max more'] == True)\n",
    "    higher_max_2015_df = pre_and_2015_merged_df[pre_and_2015_merged_df['2015 max more'] == True]\n",
    "    higher_max_2015_df = higher_max_2015_df['2015 Max']\n",
    "    \n",
    "    higher_min_2015_df = pre_and_2015_merged_df[pre_and_2015_merged_df['2015 min less'] == True]\n",
    "    higher_min_2015_df = higher_min_2015_df['2015 Min']\n",
    "#     new_df = pd.DataFrame(scatter_2015_min_set)\n",
    "    # create the plot figure\n",
    "    plt.figure()\n",
    "    # maps the pre_min and pre_max as two lines\n",
    "    plt.plot(pre_2015_max_df, '-', pre_2015_min_df, '-', color='Blue')\n",
    "    plt.scatter(higher_min_2015_df.index, higher_min_2015_df.data,  s=5, color='Red')\n",
    "    plt.scatter(higher_max_2015_df.index, higher_max_2015_df.data,  s=5, color='Red')\n",
    "    \n",
    "    plt.xlabel('Date')\n",
    "    plt.ylabel('Temp in Degrees Celsius')\n",
    "#     plt.legend()\n",
    "    \n",
    "    plt.fill_between(pre_2015_max_df.index, pre_2015_max_df['Data_Value'], pre_2015_min_df['Data_Value'], color=\"Blue\")\n",
    "\n",
    "\n",
    "create_graph()\n",
    "#     Read the documentation and familiarize yourself \n",
    "#     with the dataset, then write some python code which \n",
    "#     returns a line graph of the record high and record low \n",
    "# temperatures by day of the year over the period 2005-2014. \n",
    "\n",
    "#     not positive that the df2, which is coming from a different data source, is ONLY the necessary data as it ish ould be limited by the ID which is the weather station ID\n"
   ]
  },
  {
   "cell_type": "code",
   "execution_count": null,
   "metadata": {
    "collapsed": true
   },
   "outputs": [],
   "source": []
  }
 ],
 "metadata": {
  "kernelspec": {
   "display_name": "Python 3",
   "language": "python",
   "name": "python3"
  },
  "language_info": {
   "codemirror_mode": {
    "name": "ipython",
    "version": 3
   },
   "file_extension": ".py",
   "mimetype": "text/x-python",
   "name": "python",
   "nbconvert_exporter": "python",
   "pygments_lexer": "ipython3",
   "version": "3.6.8"
  }
 },
 "nbformat": 4,
 "nbformat_minor": 1
}
